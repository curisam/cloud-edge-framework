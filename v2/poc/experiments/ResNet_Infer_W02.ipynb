{
 "cells": [
  {
   "cell_type": "markdown",
   "id": "cf436e40",
   "metadata": {},
   "source": [
    "# 추론 지연시간 실험\n",
    "같은 환경 내 같은 데이터셋으로 각 모델 별 inference 수행 후 추론 지연시간 비교"
   ]
  },
  {
   "cell_type": "markdown",
   "id": "51d078cc",
   "metadata": {},
   "source": [
    "## Set env"
   ]
  },
  {
   "cell_type": "code",
   "execution_count": 1,
   "id": "e6293b44",
   "metadata": {
    "scrolled": true
   },
   "outputs": [
    {
     "name": "stdout",
     "output_type": "stream",
     "text": [
      "Wed Sep 21 09:56:44 2022       \r\n",
      "+-----------------------------------------------------------------------------+\r\n",
      "| NVIDIA-SMI 515.65.01    Driver Version: 515.65.01    CUDA Version: 11.7     |\r\n",
      "|-------------------------------+----------------------+----------------------+\r\n",
      "| GPU  Name        Persistence-M| Bus-Id        Disp.A | Volatile Uncorr. ECC |\r\n",
      "| Fan  Temp  Perf  Pwr:Usage/Cap|         Memory-Usage | GPU-Util  Compute M. |\r\n",
      "|                               |                      |               MIG M. |\r\n",
      "|===============================+======================+======================|\r\n",
      "|   0  NVIDIA GeForce ...  Off  | 00000000:01:00.0  On |                  N/A |\r\n",
      "| N/A   41C    P5    20W /  N/A |    200MiB /  6144MiB |     10%      Default |\r\n",
      "|                               |                      |                  N/A |\r\n",
      "+-------------------------------+----------------------+----------------------+\r\n",
      "                                                                               \r\n",
      "+-----------------------------------------------------------------------------+\r\n",
      "| Processes:                                                                  |\r\n",
      "|  GPU   GI   CI        PID   Type   Process name                  GPU Memory |\r\n",
      "|        ID   ID                                                   Usage      |\r\n",
      "|=============================================================================|\r\n",
      "|    0   N/A  N/A       912      G   /usr/lib/xorg/Xorg                 23MiB |\r\n",
      "|    0   N/A  N/A      1439      G   /usr/lib/xorg/Xorg                 51MiB |\r\n",
      "|    0   N/A  N/A      1575      G   /usr/bin/gnome-shell               78MiB |\r\n",
      "|    0   N/A  N/A      2297      G   ...737882789573786845,131072       37MiB |\r\n",
      "+-----------------------------------------------------------------------------+\r\n"
     ]
    }
   ],
   "source": [
    "!nvidia-smi"
   ]
  },
  {
   "cell_type": "code",
   "execution_count": 2,
   "id": "eeeec7da",
   "metadata": {
    "scrolled": true
   },
   "outputs": [
    {
     "name": "stdout",
     "output_type": "stream",
     "text": [
      "Requirement already satisfied: pillow in /home/keti/anaconda3/envs/infer_latency/lib/python3.8/site-packages (9.2.0)\n",
      "Requirement already satisfied: numpy==1.21 in /home/keti/anaconda3/envs/infer_latency/lib/python3.8/site-packages (1.21.0)\n",
      "Requirement already satisfied: matplotlib in /home/keti/anaconda3/envs/infer_latency/lib/python3.8/site-packages (3.5.3)\n",
      "Requirement already satisfied: pyparsing>=2.2.1 in /home/keti/anaconda3/envs/infer_latency/lib/python3.8/site-packages (from matplotlib) (3.0.9)\n",
      "Requirement already satisfied: numpy>=1.17 in /home/keti/anaconda3/envs/infer_latency/lib/python3.8/site-packages (from matplotlib) (1.21.0)\n",
      "Requirement already satisfied: cycler>=0.10 in /home/keti/anaconda3/envs/infer_latency/lib/python3.8/site-packages (from matplotlib) (0.11.0)\n",
      "Requirement already satisfied: kiwisolver>=1.0.1 in /home/keti/anaconda3/envs/infer_latency/lib/python3.8/site-packages (from matplotlib) (1.4.4)\n",
      "Requirement already satisfied: pillow>=6.2.0 in /home/keti/anaconda3/envs/infer_latency/lib/python3.8/site-packages (from matplotlib) (9.2.0)\n",
      "Requirement already satisfied: python-dateutil>=2.7 in /home/keti/anaconda3/envs/infer_latency/lib/python3.8/site-packages (from matplotlib) (2.8.2)\n",
      "Requirement already satisfied: packaging>=20.0 in /home/keti/anaconda3/envs/infer_latency/lib/python3.8/site-packages (from matplotlib) (21.3)\n",
      "Requirement already satisfied: fonttools>=4.22.0 in /home/keti/anaconda3/envs/infer_latency/lib/python3.8/site-packages (from matplotlib) (4.37.1)\n",
      "Requirement already satisfied: six>=1.5 in /home/keti/anaconda3/envs/infer_latency/lib/python3.8/site-packages (from python-dateutil>=2.7->matplotlib) (1.16.0)\n"
     ]
    }
   ],
   "source": [
    "!pip3 install pillow\n",
    "!pip3 install numpy==1.21\n",
    "!pip3 install matplotlib"
   ]
  },
  {
   "cell_type": "markdown",
   "id": "944d97fd",
   "metadata": {},
   "source": [
    "## Test per model"
   ]
  },
  {
   "cell_type": "markdown",
   "id": "b87d13f4",
   "metadata": {},
   "source": [
    "### Load Dataset"
   ]
  },
  {
   "cell_type": "code",
   "execution_count": 3,
   "id": "52269d52",
   "metadata": {},
   "outputs": [
    {
     "name": "stdout",
     "output_type": "stream",
     "text": [
      "Files already downloaded and verified\n",
      "Files already downloaded and verified\n"
     ]
    }
   ],
   "source": [
    "from torch.utils.data import DataLoader\n",
    "import torchvision.datasets as dset\n",
    "import torchvision.transforms as transforms\n",
    "import torch\n",
    "\n",
    "# Image preprocessing modules\n",
    "train_preprocess = transforms.Compose([\n",
    "    transforms.RandomResizedCrop(224),\n",
    "    transforms.RandomHorizontalFlip(),\n",
    "    transforms.ToTensor(),\n",
    "    transforms.Normalize([0.485, 0.456, 0.406], [0.229, 0.224, 0.225])\n",
    "])\n",
    "test_preprocess = transforms.Compose([\n",
    "    transforms.Resize(256),\n",
    "    transforms.CenterCrop(224),\n",
    "    transforms.ToTensor(),\n",
    "    transforms.Normalize(mean=[0.485, 0.456, 0.406], std=[0.229, 0.224, 0.225]),\n",
    "])\n",
    "\n",
    "batch_size = 8\n",
    "\n",
    "cifar10_train = dset.CIFAR10('./dataset', train=True, download=True, transform=train_preprocess)\n",
    "train_loader = DataLoader(cifar10_train, batch_size=batch_size, shuffle=True, num_workers=4)\n",
    "train_dataset_size = len(cifar10_train)\n",
    "\n",
    "cifar10_test = dset.CIFAR10('./dataset', train=False, download=True, transform=test_preprocess)\n",
    "test_loader = DataLoader(cifar10_test, batch_size=batch_size, shuffle=False)\n",
    "\n",
    "classes = ['plane', 'car', 'bird', 'cat',\n",
    "           'deer', 'dog', 'frog', 'horse', 'ship', 'truck']"
   ]
  },
  {
   "cell_type": "code",
   "execution_count": 4,
   "id": "b7455d2b",
   "metadata": {},
   "outputs": [
    {
     "name": "stderr",
     "output_type": "stream",
     "text": [
      "Clipping input data to the valid range for imshow with RGB data ([0..1] for floats or [0..255] for integers).\n"
     ]
    },
    {
     "data": {
      "image/png": "[encoded data removed]",
      "text/plain": [
       "<Figure size 640x480 with 1 Axes>"
      ]
     },
     "metadata": {},
     "output_type": "display_data"
    },
    {
     "name": "stdout",
     "output_type": "stream",
     "text": [
      "cat   ship  ship  plane frog  frog  car   frog \n"
     ]
    }
   ],
   "source": [
    "import matplotlib.pyplot as plt\n",
    "import numpy as np\n",
    "import torchvision\n",
    "\n",
    "# 이미지를 보여주기 위한 함수\n",
    "\n",
    "def imshow(img):\n",
    "    img = img / 2 + 0.5     # unnormalize\n",
    "    npimg = img.numpy()\n",
    "    plt.imshow(np.transpose(npimg, (1, 2, 0)))\n",
    "    plt.show()\n",
    "\n",
    "# 학습용 이미지를 무작위로 가져오기\n",
    "dataiter = iter(test_loader)\n",
    "images, labels = dataiter.next()\n",
    "\n",
    "# 이미지 보여주기\n",
    "imshow(torchvision.utils.make_grid(images, 10))\n",
    "# 정답(label) 출력\n",
    "print(' '.join(f'{classes[labels[j]]:5s}' for j in range(batch_size)))"
   ]
  },
  {
   "cell_type": "code",
   "execution_count": 5,
   "id": "5a5b417d",
   "metadata": {
    "scrolled": true
   },
   "outputs": [
    {
     "data": {
      "text/plain": [
       "True"
      ]
     },
     "execution_count": 5,
     "metadata": {},
     "output_type": "execute_result"
    }
   ],
   "source": [
    "torch.cuda.is_available()"
   ]
  },
  {
   "cell_type": "code",
   "execution_count": 6,
   "id": "8bec20e0",
   "metadata": {
    "scrolled": true
   },
   "outputs": [
    {
     "name": "stdout",
     "output_type": "stream",
     "text": [
      "Requirement already satisfied: tqdm in /home/keti/anaconda3/envs/infer_latency/lib/python3.8/site-packages (4.64.1)\r\n"
     ]
    }
   ],
   "source": [
    "!pip install tqdm"
   ]
  },
  {
   "cell_type": "markdown",
   "id": "0b87bf39",
   "metadata": {},
   "source": [
    "## Load model & Inference\n",
    "저장한 가중치를 모델에 적용<br>\n",
    "GPU, CPU 환경에서 각각 인퍼런스 수행"
   ]
  },
  {
   "cell_type": "markdown",
   "id": "05a8f3a8",
   "metadata": {},
   "source": [
    "### load model"
   ]
  },
  {
   "cell_type": "code",
   "execution_count": 7,
   "id": "c2fe842d",
   "metadata": {},
   "outputs": [
    {
     "name": "stderr",
     "output_type": "stream",
     "text": [
      "Using cache found in /home/keti/.cache/torch/hub/pytorch_vision_v0.10.0\n",
      "/home/keti/anaconda3/envs/infer_latency/lib/python3.8/site-packages/torchvision/models/_utils.py:208: UserWarning: The parameter 'pretrained' is deprecated since 0.13 and will be removed in 0.15, please use 'weights' instead.\n",
      "  warnings.warn(\n",
      "/home/keti/anaconda3/envs/infer_latency/lib/python3.8/site-packages/torchvision/models/_utils.py:223: UserWarning: Arguments other than a weight enum or `None` for 'weights' are deprecated since 0.13 and will be removed in 0.15. The current behavior is equivalent to passing `weights=None`.\n",
      "  warnings.warn(msg)\n",
      "Using cache found in /home/keti/.cache/torch/hub/pytorch_vision_v0.10.0\n",
      "Using cache found in /home/keti/.cache/torch/hub/pytorch_vision_v0.10.0\n",
      "Using cache found in /home/keti/.cache/torch/hub/pytorch_vision_v0.10.0\n",
      "Using cache found in /home/keti/.cache/torch/hub/pytorch_vision_v0.10.0\n"
     ]
    }
   ],
   "source": [
    "## models lists\n",
    "model_res18 = torch.hub.load('pytorch/vision:v0.10.0', 'resnet18', pretrained=False, progress=True)\n",
    "model_res34 = torch.hub.load('pytorch/vision:v0.10.0', 'resnet34', pretrained=False, progress=True)\n",
    "model_res50 = torch.hub.load('pytorch/vision:v0.10.0', 'resnet50', pretrained=False, progress=True)\n",
    "model_res101 = torch.hub.load('pytorch/vision:v0.10.0', 'resnet101', pretrained=False, progress=True)\n",
    "model_res152 = torch.hub.load('pytorch/vision:v0.10.0', 'resnet152', pretrained=False, progress=True)"
   ]
  },
  {
   "cell_type": "markdown",
   "id": "413e5d6d",
   "metadata": {},
   "source": [
    "##### weight file check"
   ]
  },
  {
   "cell_type": "code",
   "execution_count": 8,
   "id": "79c2b4d4",
   "metadata": {},
   "outputs": [
    {
     "name": "stdout",
     "output_type": "stream",
     "text": [
      "total 614088\r\n",
      "drwxrwxr-x 2 keti keti      4096  9월 20 18:43 ./\r\n",
      "drwxrwxr-x 5 keti keti      4096  9월 20 18:53 ../\r\n",
      "-rw-rw-r-- 1 keti keti 170708765  9월 20 18:42 res101_weights.pth\r\n",
      "-rw-rw-r-- 1 keti keti 233568185  9월 20 18:42 res152_weights.pth\r\n",
      "-rw-rw-r-- 1 keti keti  44804557  9월 20 18:39 res18_weights.pth\r\n",
      "-rw-rw-r-- 1 keti keti  85298445  9월 20 18:42 res34_weights.pth\r\n",
      "-rw-rw-r-- 1 keti keti  94430785  9월 20 18:42 res50_weights.pth\r\n"
     ]
    }
   ],
   "source": [
    "!ls ./models -alF"
   ]
  },
  {
   "cell_type": "markdown",
   "id": "02c8f0eb",
   "metadata": {},
   "source": [
    "### Inference-time per model"
   ]
  },
  {
   "cell_type": "markdown",
   "id": "4bcfec3a",
   "metadata": {},
   "source": [
    "#### ResNet18"
   ]
  },
  {
   "cell_type": "code",
   "execution_count": 9,
   "id": "1401efc8",
   "metadata": {},
   "outputs": [
    {
     "name": "stderr",
     "output_type": "stream",
     "text": [
      "100%|███████████████████████████████████████| 1250/1250 [00:25<00:00, 49.48it/s]\n"
     ]
    },
    {
     "name": "stdout",
     "output_type": "stream",
     "text": [
      "모델명 : model_res18\n",
      "Device : GPU\n",
      "Accuracy of the model on the test images: 86.72 %\n",
      "소요시간 :  25.265149116516113\n"
     ]
    },
    {
     "name": "stderr",
     "output_type": "stream",
     "text": [
      "100%|███████████████████████████████████████| 1250/1250 [02:24<00:00,  8.66it/s]"
     ]
    },
    {
     "name": "stdout",
     "output_type": "stream",
     "text": [
      "모델명 : model_res18\n",
      "Device : CPU\n",
      "Accuracy of the model on the test images: 86.72 %\n",
      "소요시간 :  144.31395387649536\n"
     ]
    },
    {
     "name": "stderr",
     "output_type": "stream",
     "text": [
      "\n"
     ]
    }
   ],
   "source": [
    "from torch.autograd import Variable\n",
    "import torch.nn as nn\n",
    "import torch.optim as optim\n",
    "import time\n",
    "from tqdm import tqdm\n",
    "\n",
    "# gpu/cpu set\n",
    "device = torch.device('cuda' if torch.cuda.is_available() else 'cpu')\n",
    "cpu = torch.device('cpu')\n",
    "## parameters\n",
    "epochs = 3\n",
    "\n",
    "model_ft = model_res18\n",
    "num_ftrs = model_ft.fc.in_features\n",
    "# Here the size of each output sample is set to 2.\n",
    "# Alternatively, it can be generalized to nn.Linear(num_ftrs, len(class_names)).\n",
    "model_ft.fc = nn.Linear(num_ftrs, len(classes))\n",
    "\n",
    "## Load weights to model\n",
    "path = './models/res18_weights.pth'\n",
    "saved_weights = torch.load(path)\n",
    "model_ft.load_state_dict(saved_weights)\n",
    "model_ft = model_ft.to(device)\n",
    "\n",
    "\n",
    "\n",
    "# Test the model GPU\n",
    "if torch.cuda.is_available():\n",
    "    model_ft.to('cuda')\n",
    "\n",
    "with torch.no_grad():\n",
    "    start = time.time()\n",
    "    correct = 0\n",
    "    total = 0\n",
    "    for data in tqdm(test_loader, mininterval=0.01):\n",
    "        images, labels = data\n",
    "        images = images.to(device)\n",
    "        labels = labels.to(device)\n",
    "        outputs = model_ft(images)\n",
    "        _, predicted = torch.max(outputs.data, 1)\n",
    "        total += labels.size(0)\n",
    "        correct += (predicted == labels).sum().item()\n",
    "        \n",
    "    print(\"모델명 : model_res18\")\n",
    "    print(\"Device : GPU\")\n",
    "    print('Accuracy of the model on the test images: {} %'.format(100 * correct / total))\n",
    "    print(\"소요시간 : \", time.time() - start)\n",
    "    \n",
    "# Test the model CPU\n",
    "device = torch.device('cpu')\n",
    "model_ft.to('cpu')\n",
    "\n",
    "with torch.no_grad():\n",
    "    start = time.time()\n",
    "    correct = 0\n",
    "    total = 0\n",
    "    for data in tqdm(test_loader, mininterval=0.01):\n",
    "        images, labels = data\n",
    "        images = images.to(device)\n",
    "        labels = labels.to(device)\n",
    "        outputs = model_ft(images)\n",
    "        _, predicted = torch.max(outputs.data, 1)\n",
    "        total += labels.size(0)\n",
    "        correct += (predicted == labels).sum().item()\n",
    "        \n",
    "    print(\"모델명 : model_res18\")\n",
    "    print(\"Device : CPU\")\n",
    "    print('Accuracy of the model on the test images: {} %'.format(100 * correct / total))\n",
    "    print(\"소요시간 : \", time.time() - start)"
   ]
  },
  {
   "cell_type": "markdown",
   "id": "a7785196",
   "metadata": {},
   "source": [
    "#### ResNet34"
   ]
  },
  {
   "cell_type": "code",
   "execution_count": 10,
   "id": "f15ec113",
   "metadata": {},
   "outputs": [
    {
     "name": "stderr",
     "output_type": "stream",
     "text": [
      "100%|███████████████████████████████████████| 1250/1250 [00:30<00:00, 41.33it/s]\n"
     ]
    },
    {
     "name": "stdout",
     "output_type": "stream",
     "text": [
      "모델명 : model_res34\n",
      "Device : GPU\n",
      "Accuracy of the model on the test images: 88.6 %\n",
      "소요시간 :  30.244954109191895\n"
     ]
    },
    {
     "name": "stderr",
     "output_type": "stream",
     "text": [
      "100%|███████████████████████████████████████| 1250/1250 [03:48<00:00,  5.47it/s]"
     ]
    },
    {
     "name": "stdout",
     "output_type": "stream",
     "text": [
      "모델명 : model_res34\n",
      "Device : CPU\n",
      "Accuracy of the model on the test images: 88.6 %\n",
      "소요시간 :  228.3352541923523\n"
     ]
    },
    {
     "name": "stderr",
     "output_type": "stream",
     "text": [
      "\n"
     ]
    }
   ],
   "source": [
    "## parameters\n",
    "epochs = 3\n",
    "\n",
    "model_ft = model_res34\n",
    "num_ftrs = model_ft.fc.in_features\n",
    "# Here the size of each output sample is set to 2.\n",
    "# Alternatively, it can be generalized to nn.Linear(num_ftrs, len(class_names)).\n",
    "model_ft.fc = nn.Linear(num_ftrs, len(classes))\n",
    "\n",
    "## Load weights to model\n",
    "path = './models/res34_weights.pth'\n",
    "saved_weights = torch.load(path)\n",
    "model_ft.load_state_dict(saved_weights)\n",
    "model_ft = model_ft.to(device)\n",
    "\n",
    "\n",
    "# gpu set\n",
    "device = torch.device('cuda' if torch.cuda.is_available() else 'cpu')\n",
    "cpu = torch.device('cpu')\n",
    "\n",
    "# Test the model GPU\n",
    "if torch.cuda.is_available():\n",
    "    model_ft.to('cuda')\n",
    "\n",
    "with torch.no_grad():\n",
    "    start = time.time()\n",
    "    correct = 0\n",
    "    total = 0\n",
    "    for data in tqdm(test_loader, mininterval=0.01):\n",
    "        images, labels = data\n",
    "        images = images.to(device)\n",
    "        labels = labels.to(device)\n",
    "        outputs = model_ft(images)\n",
    "        _, predicted = torch.max(outputs.data, 1)\n",
    "        total += labels.size(0)\n",
    "        correct += (predicted == labels).sum().item()\n",
    "        \n",
    "    print(\"모델명 : model_res34\")\n",
    "    print(\"Device : GPU\")\n",
    "    print('Accuracy of the model on the test images: {} %'.format(100 * correct / total))\n",
    "    print(\"소요시간 : \", time.time() - start)\n",
    "    \n",
    "# Test the model CPU\n",
    "device = torch.device('cpu')\n",
    "model_ft.to('cpu')\n",
    "\n",
    "with torch.no_grad():\n",
    "    start = time.time()\n",
    "    correct = 0\n",
    "    total = 0\n",
    "    for data in tqdm(test_loader, mininterval=0.01):\n",
    "        images, labels = data\n",
    "        images = images.to(device)\n",
    "        labels = labels.to(device)\n",
    "        outputs = model_ft(images)\n",
    "        _, predicted = torch.max(outputs.data, 1)\n",
    "        total += labels.size(0)\n",
    "        correct += (predicted == labels).sum().item()\n",
    "        \n",
    "    print(\"모델명 : model_res34\")\n",
    "    print(\"Device : CPU\")\n",
    "    print('Accuracy of the model on the test images: {} %'.format(100 * correct / total))\n",
    "    print(\"소요시간 : \", time.time() - start)"
   ]
  },
  {
   "cell_type": "markdown",
   "id": "a230b8f0",
   "metadata": {},
   "source": [
    "#### ResNet50"
   ]
  },
  {
   "cell_type": "code",
   "execution_count": 11,
   "id": "fe715dac",
   "metadata": {},
   "outputs": [
    {
     "name": "stderr",
     "output_type": "stream",
     "text": [
      "100%|███████████████████████████████████████| 1250/1250 [00:42<00:00, 29.30it/s]\n"
     ]
    },
    {
     "name": "stdout",
     "output_type": "stream",
     "text": [
      "모델명 : model_res50\n",
      "Device : GPU\n",
      "Accuracy of the model on the test images: 89.53 %\n",
      "소요시간 :  42.65743708610535\n"
     ]
    },
    {
     "name": "stderr",
     "output_type": "stream",
     "text": [
      "100%|███████████████████████████████████████| 1250/1250 [07:47<00:00,  2.67it/s]"
     ]
    },
    {
     "name": "stdout",
     "output_type": "stream",
     "text": [
      "모델명 : model_res50\n",
      "Device : CPU\n",
      "Accuracy of the model on the test images: 89.53 %\n",
      "소요시간 :  467.52036595344543\n"
     ]
    },
    {
     "name": "stderr",
     "output_type": "stream",
     "text": [
      "\n"
     ]
    }
   ],
   "source": [
    "## parameters\n",
    "epochs = 3\n",
    "\n",
    "model_ft = model_res50\n",
    "num_ftrs = model_ft.fc.in_features\n",
    "# Here the size of each output sample is set to 2.\n",
    "# Alternatively, it can be generalized to nn.Linear(num_ftrs, len(class_names)).\n",
    "model_ft.fc = nn.Linear(num_ftrs, len(classes))\n",
    "\n",
    "## Load weights to model\n",
    "path = './models/res50_weights.pth'\n",
    "saved_weights = torch.load(path)\n",
    "model_ft.load_state_dict(saved_weights)\n",
    "model_ft = model_ft.to(device)\n",
    "\n",
    "\n",
    "# gpu set\n",
    "device = torch.device('cuda' if torch.cuda.is_available() else 'cpu')\n",
    "cpu = torch.device('cpu')\n",
    "\n",
    "# Test the model GPU\n",
    "if torch.cuda.is_available():\n",
    "    model_ft.to('cuda')\n",
    "\n",
    "with torch.no_grad():\n",
    "    start = time.time()\n",
    "    correct = 0\n",
    "    total = 0\n",
    "    for data in tqdm(test_loader, mininterval=0.01):\n",
    "        images, labels = data\n",
    "        images = images.to(device)\n",
    "        labels = labels.to(device)\n",
    "        outputs = model_ft(images)\n",
    "        _, predicted = torch.max(outputs.data, 1)\n",
    "        total += labels.size(0)\n",
    "        correct += (predicted == labels).sum().item()\n",
    "        \n",
    "    print(\"모델명 : model_res50\")\n",
    "    print(\"Device : GPU\")\n",
    "    print('Accuracy of the model on the test images: {} %'.format(100 * correct / total))\n",
    "    print(\"소요시간 : \", time.time() - start)\n",
    "    \n",
    "# Test the model CPU\n",
    "device = torch.device('cpu')\n",
    "model_ft.to('cpu')\n",
    "\n",
    "with torch.no_grad():\n",
    "    start = time.time()\n",
    "    correct = 0\n",
    "    total = 0\n",
    "    for data in tqdm(test_loader, mininterval=0.01):\n",
    "        images, labels = data\n",
    "        images = images.to(device)\n",
    "        labels = labels.to(device)\n",
    "        outputs = model_ft(images)\n",
    "        _, predicted = torch.max(outputs.data, 1)\n",
    "        total += labels.size(0)\n",
    "        correct += (predicted == labels).sum().item()\n",
    "        \n",
    "    print(\"모델명 : model_res50\")\n",
    "    print(\"Device : CPU\")\n",
    "    print('Accuracy of the model on the test images: {} %'.format(100 * correct / total))\n",
    "    print(\"소요시간 : \", time.time() - start)"
   ]
  },
  {
   "cell_type": "markdown",
   "id": "9afa40ec",
   "metadata": {},
   "source": [
    "####  ResNet101"
   ]
  },
  {
   "cell_type": "code",
   "execution_count": 12,
   "id": "6ea1b963",
   "metadata": {},
   "outputs": [
    {
     "name": "stderr",
     "output_type": "stream",
     "text": [
      "100%|███████████████████████████████████████| 1250/1250 [01:04<00:00, 19.51it/s]\n"
     ]
    },
    {
     "name": "stdout",
     "output_type": "stream",
     "text": [
      "모델명 : model_res101\n",
      "Device : GPU\n",
      "Accuracy of the model on the test images: 90.55 %\n",
      "소요시간 :  64.07946801185608\n"
     ]
    },
    {
     "name": "stderr",
     "output_type": "stream",
     "text": [
      "100%|███████████████████████████████████████| 1250/1250 [11:44<00:00,  1.77it/s]"
     ]
    },
    {
     "name": "stdout",
     "output_type": "stream",
     "text": [
      "모델명 : model_res101\n",
      "Device : CPU\n",
      "Accuracy of the model on the test images: 90.55 %\n",
      "소요시간 :  704.2561693191528\n"
     ]
    },
    {
     "name": "stderr",
     "output_type": "stream",
     "text": [
      "\n"
     ]
    }
   ],
   "source": [
    "## parameters\n",
    "epochs = 3\n",
    "\n",
    "model_ft = model_res101\n",
    "num_ftrs = model_ft.fc.in_features\n",
    "# Here the size of each output sample is set to 2.\n",
    "# Alternatively, it can be generalized to nn.Linear(num_ftrs, len(class_names)).\n",
    "model_ft.fc = nn.Linear(num_ftrs, len(classes))\n",
    "\n",
    "## Load weights to model\n",
    "path = './models/res101_weights.pth'\n",
    "saved_weights = torch.load(path)\n",
    "model_ft.load_state_dict(saved_weights)\n",
    "model_ft = model_ft.to(device)\n",
    "\n",
    "\n",
    "# gpu set\n",
    "device = torch.device('cuda' if torch.cuda.is_available() else 'cpu')\n",
    "cpu = torch.device('cpu')\n",
    "\n",
    "# Test the model GPU\n",
    "if torch.cuda.is_available():\n",
    "    model_ft.to('cuda')\n",
    "\n",
    "with torch.no_grad():\n",
    "    start = time.time()\n",
    "    correct = 0\n",
    "    total = 0\n",
    "    for data in tqdm(test_loader, mininterval=0.01):\n",
    "        images, labels = data\n",
    "        images = images.to(device)\n",
    "        labels = labels.to(device)\n",
    "        outputs = model_ft(images)\n",
    "        _, predicted = torch.max(outputs.data, 1)\n",
    "        total += labels.size(0)\n",
    "        correct += (predicted == labels).sum().item()\n",
    "        \n",
    "    print(\"모델명 : model_res101\")\n",
    "    print(\"Device : GPU\")\n",
    "    print('Accuracy of the model on the test images: {} %'.format(100 * correct / total))\n",
    "    print(\"소요시간 : \", time.time() - start)\n",
    "    \n",
    "# Test the model CPU\n",
    "device = torch.device('cpu')\n",
    "model_ft.to('cpu')\n",
    "\n",
    "with torch.no_grad():\n",
    "    start = time.time()\n",
    "    correct = 0\n",
    "    total = 0\n",
    "    for data in tqdm(test_loader, mininterval=0.01):\n",
    "        images, labels = data\n",
    "        images = images.to(device)\n",
    "        labels = labels.to(device)\n",
    "        outputs = model_ft(images)\n",
    "        _, predicted = torch.max(outputs.data, 1)\n",
    "        total += labels.size(0)\n",
    "        correct += (predicted == labels).sum().item()\n",
    "        \n",
    "    print(\"모델명 : model_res101\")\n",
    "    print(\"Device : CPU\")\n",
    "    print('Accuracy of the model on the test images: {} %'.format(100 * correct / total))\n",
    "    print(\"소요시간 : \", time.time() - start)"
   ]
  },
  {
   "cell_type": "markdown",
   "id": "2979e77b",
   "metadata": {},
   "source": [
    "#### ResNet152"
   ]
  },
  {
   "cell_type": "code",
   "execution_count": 13,
   "id": "df04fd4a",
   "metadata": {},
   "outputs": [
    {
     "name": "stderr",
     "output_type": "stream",
     "text": [
      "100%|███████████████████████████████████████| 1250/1250 [01:26<00:00, 14.50it/s]\n"
     ]
    },
    {
     "name": "stdout",
     "output_type": "stream",
     "text": [
      "모델명 : model_res152\n",
      "Device : GPU\n",
      "Accuracy of the model on the test images: 91.76 %\n",
      "소요시간 :  86.22958540916443\n"
     ]
    },
    {
     "name": "stderr",
     "output_type": "stream",
     "text": [
      "100%|███████████████████████████████████████| 1250/1250 [16:50<00:00,  1.24it/s]"
     ]
    },
    {
     "name": "stdout",
     "output_type": "stream",
     "text": [
      "모델명 : model_res152\n",
      "Device : CPU\n",
      "Accuracy of the model on the test images: 91.76 %\n",
      "소요시간 :  1010.4093790054321\n"
     ]
    },
    {
     "name": "stderr",
     "output_type": "stream",
     "text": [
      "\n"
     ]
    }
   ],
   "source": [
    "## parameters\n",
    "epochs = 3\n",
    "\n",
    "model_ft = model_res152\n",
    "num_ftrs = model_ft.fc.in_features\n",
    "# Here the size of each output sample is set to 2.\n",
    "# Alternatively, it can be generalized to nn.Linear(num_ftrs, len(class_names)).\n",
    "model_ft.fc = nn.Linear(num_ftrs, len(classes))\n",
    "\n",
    "## Load weights to model\n",
    "path = './models/res152_weights.pth'\n",
    "saved_weights = torch.load(path)\n",
    "model_ft.load_state_dict(saved_weights)\n",
    "model_ft = model_ft.to(device)\n",
    "\n",
    "# gpu set\n",
    "device = torch.device('cuda' if torch.cuda.is_available() else 'cpu')\n",
    "cpu = torch.device('cpu')\n",
    "\n",
    "# Test the model GPU\n",
    "if torch.cuda.is_available():\n",
    "    model_ft.to('cuda')\n",
    "\n",
    "with torch.no_grad():\n",
    "    start = time.time()\n",
    "    correct = 0\n",
    "    total = 0\n",
    "    for data in tqdm(test_loader, mininterval=0.01):\n",
    "        images, labels = data\n",
    "        images = images.to(device)\n",
    "        labels = labels.to(device)\n",
    "        outputs = model_ft(images)\n",
    "        _, predicted = torch.max(outputs.data, 1)\n",
    "        total += labels.size(0)\n",
    "        correct += (predicted == labels).sum().item()\n",
    "        \n",
    "    print(\"모델명 : model_res152\")\n",
    "    print(\"Device : GPU\")\n",
    "    print('Accuracy of the model on the test images: {} %'.format(100 * correct / total))\n",
    "    print(\"소요시간 : \", time.time() - start)\n",
    "    \n",
    "# Test the model CPU\n",
    "device = torch.device('cpu')\n",
    "model_ft.to('cpu')\n",
    "\n",
    "with torch.no_grad():\n",
    "    start = time.time()\n",
    "    correct = 0\n",
    "    total = 0\n",
    "    for data in tqdm(test_loader, mininterval=0.01):\n",
    "        images, labels = data\n",
    "        images = images.to(device)\n",
    "        labels = labels.to(device)\n",
    "        outputs = model_ft(images)\n",
    "        _, predicted = torch.max(outputs.data, 1)\n",
    "        total += labels.size(0)\n",
    "        correct += (predicted == labels).sum().item()\n",
    "        \n",
    "    print(\"모델명 : model_res152\")\n",
    "    print(\"Device : CPU\")\n",
    "    print('Accuracy of the model on the test images: {} %'.format(100 * correct / total))\n",
    "    print(\"소요시간 : \", time.time() - start)"
   ]
  }
 ],
 "metadata": {
  "kernelspec": {
   "display_name": "Python 3 (ipykernel)",
   "language": "python",
   "name": "python3"
  },
  "language_info": {
   "codemirror_mode": {
    "name": "ipython",
    "version": 3
   },
   "file_extension": ".py",
   "mimetype": "text/x-python",
   "name": "python",
   "nbconvert_exporter": "python",
   "pygments_lexer": "ipython3",
   "version": "3.8.0"
  }
 },
 "nbformat": 4,
 "nbformat_minor": 5
}
