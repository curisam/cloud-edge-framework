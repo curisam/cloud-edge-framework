{
 "cells": [
  {
   "cell_type": "code",
   "execution_count": 18,
   "metadata": {},
   "outputs": [
    {
     "data": {
      "text/plain": [
       "'{\"repositories\":[\"aarch64-model\",\"cifar-rpi-model\",\"dockerfile-test-rpi\",\"edge-model\",\"python\",\"rpi-model\"]}\\n'"
      ]
     },
     "execution_count": 18,
     "metadata": {},
     "output_type": "execute_result"
    }
   ],
   "source": [
    "import requests\n",
    "\n",
    "search = requests.get('{url}/v2/_catalog'.format(url='http://172.26.64.1:5000'))\n",
    "search.text"
   ]
  },
  {
   "cell_type": "code",
   "execution_count": 19,
   "metadata": {},
   "outputs": [
    {
     "name": "stdout",
     "output_type": "stream",
     "text": [
      "{'repositories': ['aarch64-model', 'cifar-rpi-model', 'dockerfile-test-rpi', 'edge-model', 'python', 'rpi-model']}\n"
     ]
    }
   ],
   "source": [
    "nodes = eval(search.text)\n",
    "print(nodes)"
   ]
  },
  {
   "cell_type": "code",
   "execution_count": 20,
   "metadata": {},
   "outputs": [
    {
     "data": {
      "text/plain": [
       "list"
      ]
     },
     "execution_count": 20,
     "metadata": {},
     "output_type": "execute_result"
    }
   ],
   "source": [
    "type(nodes['repositories'])"
   ]
  },
  {
   "cell_type": "code",
   "execution_count": 21,
   "metadata": {},
   "outputs": [
    {
     "name": "stdout",
     "output_type": "stream",
     "text": [
      "['aarch64-model', 'cifar-rpi-model', 'dockerfile-test-rpi', 'edge-model', 'python', 'rpi-model']\n"
     ]
    }
   ],
   "source": [
    "nodes = nodes['repositories']\n",
    "print(nodes)"
   ]
  },
  {
   "cell_type": "code",
   "execution_count": null,
   "metadata": {},
   "outputs": [],
   "source": []
  }
 ],
 "metadata": {
  "kernelspec": {
   "display_name": "Python 3 (ipykernel)",
   "language": "python",
   "name": "python3"
  },
  "orig_nbformat": 4
 },
 "nbformat": 4,
 "nbformat_minor": 2
}
