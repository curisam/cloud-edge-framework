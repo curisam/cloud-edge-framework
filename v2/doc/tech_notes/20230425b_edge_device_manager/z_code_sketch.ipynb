{
 "cells": [
  {
   "cell_type": "markdown",
   "id": "e3dcd947-0e8e-4531-b5c9-9d9148b4b11a",
   "metadata": {},
   "source": [
    "### Create DB"
   ]
  },
  {
   "cell_type": "code",
   "execution_count": 11,
   "id": "029a7536-1959-45ae-966c-06e926ccf476",
   "metadata": {},
   "outputs": [],
   "source": [
    "import sqlite3\n",
    "\n",
    "conn = sqlite3.connect('monitoring.db')\n",
    "c = conn.cursor()\n",
    "\n",
    "c.execute('''CREATE TABLE data (id INTEGER PRIMARY KEY AUTOINCREMENT, timestamp TIMESTAMP DEFAULT CURRENT_TIMESTAMP, cpu_temperature REAL, cpu_usage REAL, gpu_temperature REAL, gpu_usage REAL)''')\n",
    "\n",
    "conn.commit()\n",
    "conn.close()\n"
   ]
  },
  {
   "cell_type": "code",
   "execution_count": null,
   "id": "5771008f-c762-4db7-b63e-b39994d05106",
   "metadata": {},
   "outputs": [],
   "source": []
  }
 ],
 "metadata": {
  "kernelspec": {
   "display_name": "dl4cv",
   "language": "python",
   "name": "dl4cv"
  },
  "language_info": {
   "codemirror_mode": {
    "name": "ipython",
    "version": 3
   },
   "file_extension": ".py",
   "mimetype": "text/x-python",
   "name": "python",
   "nbconvert_exporter": "python",
   "pygments_lexer": "ipython3",
   "version": "3.8.10"
  }
 },
 "nbformat": 4,
 "nbformat_minor": 5
}
