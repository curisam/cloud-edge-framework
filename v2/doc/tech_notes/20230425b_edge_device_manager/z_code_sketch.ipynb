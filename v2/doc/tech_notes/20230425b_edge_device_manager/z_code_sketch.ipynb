{
 "cells": [
  {
   "cell_type": "markdown",
   "id": "e3dcd947-0e8e-4531-b5c9-9d9148b4b11a",
   "metadata": {},
   "source": [
    "### Test"
   ]
  },
  {
   "cell_type": "code",
   "execution_count": 33,
   "id": "83da5752-2ae3-46ce-bf4b-85f42cfa61f6",
   "metadata": {},
   "outputs": [
    {
     "name": "stdout",
     "output_type": "stream",
     "text": [
      "\n",
      "\n",
      "\n",
      "\n",
      "{'status': 'ok'}\n"
     ]
    }
   ],
   "source": [
    "import requests\n",
    "import json\n",
    "\n",
    "url = \"http://localhost:8004/api/ts/create\"\n",
    "\n",
    "token = 'TK000'\n",
    "\n",
    "data = {\"cpu_temp\": \"10\", \"cpu_usage\":\"1\"}\n",
    "json_data = json.dumps(data)\n",
    "\n",
    "payload = {\n",
    "    'access_token': token,\n",
    "    'created_at': 'string',\n",
    "    'json_data': json_data,\n",
    "    'done': 'true'\n",
    "}\n",
    "\n",
    "print('\\n')\n",
    "#print(payload)\n",
    "print('\\n')\n",
    "response = requests.post(url, json=payload)\n",
    "print(response.json())\n"
   ]
  },
  {
   "cell_type": "code",
   "execution_count": 37,
   "id": "03138283-c603-48dd-bd66-824be96ed4f6",
   "metadata": {},
   "outputs": [
    {
     "data": {
      "text/plain": [
       "5.8"
      ]
     },
     "execution_count": 37,
     "metadata": {},
     "output_type": "execute_result"
    }
   ],
   "source": [
    "import psutil\n",
    "\n",
    "def get_cpu_usage():\n",
    "    return psutil.cpu_percent()\n",
    "\n",
    "get_cpu_usage()"
   ]
  },
  {
   "cell_type": "code",
   "execution_count": null,
   "id": "8d275927-f684-42f5-ba4f-e2fe34ecc736",
   "metadata": {},
   "outputs": [],
   "source": []
  },
  {
   "cell_type": "code",
   "execution_count": null,
   "id": "6bd2aea5-70de-4b10-825b-3b40fa22ccb3",
   "metadata": {},
   "outputs": [],
   "source": []
  },
  {
   "cell_type": "code",
   "execution_count": null,
   "id": "b33b9b59-6410-44f2-bcfa-7ecb9fe739ee",
   "metadata": {},
   "outputs": [],
   "source": []
  },
  {
   "cell_type": "code",
   "execution_count": 11,
   "id": "029a7536-1959-45ae-966c-06e926ccf476",
   "metadata": {},
   "outputs": [],
   "source": [
    "import sqlite3\n",
    "\n",
    "conn = sqlite3.connect('monitoring.db')\n",
    "c = conn.cursor()\n",
    "\n",
    "c.execute('''CREATE TABLE data (id INTEGER PRIMARY KEY AUTOINCREMENT, timestamp TIMESTAMP DEFAULT CURRENT_TIMESTAMP, cpu_temperature REAL, cpu_usage REAL, gpu_temperature REAL, gpu_usage REAL)''')\n",
    "\n",
    "conn.commit()\n",
    "conn.close()\n"
   ]
  },
  {
   "cell_type": "code",
   "execution_count": null,
   "id": "5771008f-c762-4db7-b63e-b39994d05106",
   "metadata": {},
   "outputs": [],
   "source": []
  }
 ],
 "metadata": {
  "kernelspec": {
   "display_name": "base(conda)",
   "language": "python",
   "name": "base"
  },
  "language_info": {
   "codemirror_mode": {
    "name": "ipython",
    "version": 3
   },
   "file_extension": ".py",
   "mimetype": "text/x-python",
   "name": "python",
   "nbconvert_exporter": "python",
   "pygments_lexer": "ipython3",
   "version": "3.9.13"
  }
 },
 "nbformat": 4,
 "nbformat_minor": 5
}
