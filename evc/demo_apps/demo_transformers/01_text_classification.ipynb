{
 "cells": [
  {
   "cell_type": "markdown",
   "id": "64bc9eeb-e5e5-46a5-a88e-9644e0312f70",
   "metadata": {},
   "source": [
    "# demo"
   ]
  },
  {
   "cell_type": "code",
   "execution_count": 3,
   "id": "7bbc896f-50f6-4344-9e18-1991e4a4f2ca",
   "metadata": {},
   "outputs": [
    {
     "name": "stderr",
     "output_type": "stream",
     "text": [
      "No model was supplied, defaulted to distilbert/distilbert-base-uncased-finetuned-sst-2-english and revision af0f99b (https://huggingface.co/distilbert/distilbert-base-uncased-finetuned-sst-2-english).\n",
      "Using a pipeline without specifying a model name and revision in production is not recommended.\n",
      "/home/jpark/.local/lib/python3.12/site-packages/huggingface_hub/file_download.py:1132: FutureWarning: `resume_download` is deprecated and will be removed in version 1.0.0. Downloads always resume when possible. If you want to force a new download, use `force_download=True`.\n",
      "  warnings.warn(\n"
     ]
    },
    {
     "data": {
      "text/html": [
       "<div>\n",
       "<style scoped>\n",
       "    .dataframe tbody tr th:only-of-type {\n",
       "        vertical-align: middle;\n",
       "    }\n",
       "\n",
       "    .dataframe tbody tr th {\n",
       "        vertical-align: top;\n",
       "    }\n",
       "\n",
       "    .dataframe thead th {\n",
       "        text-align: right;\n",
       "    }\n",
       "</style>\n",
       "<table border=\"1\" class=\"dataframe\">\n",
       "  <thead>\n",
       "    <tr style=\"text-align: right;\">\n",
       "      <th></th>\n",
       "      <th>label</th>\n",
       "      <th>score</th>\n",
       "    </tr>\n",
       "  </thead>\n",
       "  <tbody>\n",
       "    <tr>\n",
       "      <th>0</th>\n",
       "      <td>NEGATIVE</td>\n",
       "      <td>0.999808</td>\n",
       "    </tr>\n",
       "  </tbody>\n",
       "</table>\n",
       "</div>"
      ],
      "text/plain": [
       "      label     score\n",
       "0  NEGATIVE  0.999808"
      ]
     },
     "execution_count": 3,
     "metadata": {},
     "output_type": "execute_result"
    }
   ],
   "source": [
    "from transformers import pipeline\n",
    "import pandas as pd\n",
    "\n",
    "text = \"This movie is very poor.\"\n",
    "classifier = pipeline(\"text-classification\")\n",
    "outputs = classifier(text)\n",
    "pd.DataFrame(outputs)"
   ]
  },
  {
   "cell_type": "code",
   "execution_count": 4,
   "id": "2c1f3166-8b94-4209-b830-b97a5c3d9f40",
   "metadata": {},
   "outputs": [
    {
     "name": "stdout",
     "output_type": "stream",
     "text": [
      "[{'label': 'LABEL_0', 'score': 0.9999139308929443}]\n"
     ]
    }
   ],
   "source": [
    "from transformers import AutoTokenizer, AutoModelForSequenceClassification, pipeline\n",
    "\n",
    "model = AutoModelForSequenceClassification.from_pretrained(\"j5ng/kcbert-formal-classifier\")\n",
    "tokenizer = AutoTokenizer.from_pretrained('j5ng/kcbert-formal-classifier')\n",
    "\n",
    "formal_classifier = pipeline(task=\"text-classification\", model=model, tokenizer=tokenizer)\n",
    "print(formal_classifier(\"저번에 교수님께서 자료 가져오라했는데 기억나?\")) \n",
    "# [{'label': 'LABEL_0', 'score': 0.9999139308929443}]"
   ]
  },
  {
   "cell_type": "code",
   "execution_count": 5,
   "id": "8073a488-e401-4a80-883b-9660b56190b2",
   "metadata": {},
   "outputs": [
    {
     "name": "stdout",
     "output_type": "stream",
     "text": [
      "[{'label': 'LABEL_1', 'score': 0.9993060827255249}]\n"
     ]
    }
   ],
   "source": [
    "formal_classifier = pipeline(task=\"text-classification\", model=model, tokenizer=tokenizer)\n",
    "print(formal_classifier(\"저번에 교수님께서 자료가져 오라는 공지 받으셨나요 ?\"))"
   ]
  },
  {
   "cell_type": "code",
   "execution_count": 6,
   "id": "ca8a13bd-c5a8-4477-b309-5c1a62f4f176",
   "metadata": {},
   "outputs": [
    {
     "name": "stdout",
     "output_type": "stream",
     "text": [
      "[{'label': 'LABEL_0', 'score': 0.9999138116836548}]\n"
     ]
    }
   ],
   "source": [
    "formal_classifier = pipeline(task=\"text-classification\", model=model, tokenizer=tokenizer)\n",
    "print(formal_classifier(\"저번에 교수님께서 자료가져 오라는 얘기 기억나냐 ?\"))"
   ]
  },
  {
   "cell_type": "code",
   "execution_count": null,
   "id": "5753c579-ea2c-4715-8733-e70359f7e550",
   "metadata": {},
   "outputs": [],
   "source": []
  }
 ],
 "metadata": {
  "kernelspec": {
   "display_name": "Python 3 (ipykernel)",
   "language": "python",
   "name": "python3"
  },
  "language_info": {
   "codemirror_mode": {
    "name": "ipython",
    "version": 3
   },
   "file_extension": ".py",
   "mimetype": "text/x-python",
   "name": "python",
   "nbconvert_exporter": "python",
   "pygments_lexer": "ipython3",
   "version": "3.12.4"
  }
 },
 "nbformat": 4,
 "nbformat_minor": 5
}
